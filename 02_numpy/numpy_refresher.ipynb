{
 "cells": [
  {
   "cell_type": "code",
   "execution_count": 1,
   "id": "92eeb176",
   "metadata": {},
   "outputs": [
    {
     "data": {
      "text/plain": [
       "array([0, 1, 2, 3, 4, 5, 6, 7, 8, 9])"
      ]
     },
     "execution_count": 1,
     "metadata": {},
     "output_type": "execute_result"
    }
   ],
   "source": [
    "import numpy as np\n",
    "np.arange(10)"
   ]
  },
  {
   "cell_type": "code",
   "execution_count": 6,
   "id": "e7eeec14",
   "metadata": {},
   "outputs": [
    {
     "name": "stdout",
     "output_type": "stream",
     "text": [
      "9.5\n"
     ]
    }
   ],
   "source": [
    "arr=np.random.randint(0,20,20)\n",
    "result=np.mean(arr)\n",
    "print(result)\n"
   ]
  },
  {
   "cell_type": "code",
   "execution_count": 7,
   "id": "9aba9a23",
   "metadata": {},
   "outputs": [
    {
     "name": "stdout",
     "output_type": "stream",
     "text": [
      "9.5\n"
     ]
    }
   ],
   "source": [
    "arr=np.random.randint(0,20,20)\n",
    "result=np.median(arr)\n",
    "print(result)\n"
   ]
  },
  {
   "cell_type": "code",
   "execution_count": 8,
   "id": "8be21c9d",
   "metadata": {},
   "outputs": [
    {
     "name": "stdout",
     "output_type": "stream",
     "text": [
      "5.365631370118526\n"
     ]
    }
   ],
   "source": [
    "arr=np.random.randint(0,20,20)\n",
    "result=np.std(arr)\n",
    "print(result)\n"
   ]
  },
  {
   "cell_type": "code",
   "execution_count": 10,
   "id": "460eb6fb",
   "metadata": {},
   "outputs": [
    {
     "name": "stdout",
     "output_type": "stream",
     "text": [
      "Array [12 12 11  0  4 19  4 19 17 19  3  9  8  9  6 19  8  0 19 14]\n",
      "Mean 10.6\n",
      "Median 10.0\n",
      "Standard dev 6.398437309218556\n",
      "[[12 12 11  0  4]\n",
      " [19  4 19 17 19]\n",
      " [ 3  9  8  9  6]\n",
      " [19  8  0 19 14]]\n"
     ]
    }
   ],
   "source": [
    "import numpy as np\n",
    "arr=np.random.randint(0,20,20)\n",
    "\n",
    "print(\"Array\",arr)\n",
    "print(\"Mean\",np.mean(arr))\n",
    "print(\"Median\",np.median(arr))\n",
    "print(\"Standard dev\",np.std(arr))\n",
    "\n",
    "reshape_arr=np.reshape(arr,(4,5))\n",
    "print(reshape_arr)"
   ]
  },
  {
   "cell_type": "markdown",
   "id": "244231d0",
   "metadata": {},
   "source": []
  }
 ],
 "metadata": {
  "kernelspec": {
   "display_name": "python-refresher-starter (3.13.7)",
   "language": "python",
   "name": "python3"
  },
  "language_info": {
   "codemirror_mode": {
    "name": "ipython",
    "version": 3
   },
   "file_extension": ".py",
   "mimetype": "text/x-python",
   "name": "python",
   "nbconvert_exporter": "python",
   "pygments_lexer": "ipython3",
   "version": "3.13.7"
  }
 },
 "nbformat": 4,
 "nbformat_minor": 5
}
